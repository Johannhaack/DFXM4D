{
 "cells": [
  {
   "cell_type": "code",
   "execution_count": 1,
   "metadata": {},
   "outputs": [],
   "source": [
    "import glob\n",
    "import os\n",
    "import numpy\n",
    "import h5py\n",
    "from matplotlib import pyplot as plt\n",
    "import h5py\n",
    "\n",
    "from darfix.core.dataset import Dataset\n",
    "from darfix.core.dimension import POSITIONER_METADATA\n"
   ]
  },
  {
   "cell_type": "code",
   "execution_count": 2,
   "metadata": {},
   "outputs": [],
   "source": [
    "def find_directories_with_name(root_dir, search_name):\n",
    "    matching_dirs = []\n",
    "    for dirpath, dirnames, filenames in os.walk(root_dir):\n",
    "        for dirname in dirnames:\n",
    "            if search_name in dirname:\n",
    "                matching_dirs.append(os.path.join(dirpath, dirname))\n",
    "    return matching_dirs\n",
    "\n",
    "# Function to find numbered keys in an h5 file\n",
    "def find_numbered_keys(h5_file):\n",
    "    numbered_keys = []\n",
    "    for key in h5_file.keys():\n",
    "        if key.replace('.', '').isdigit() and key.endswith('.1') :  # Check if the key is numeric\n",
    "            numbered_keys.append(key)\n",
    "    return numbered_keys\n",
    "\n",
    "# Function to iterate over directories and process each .h5 file\n",
    "def process_directories(directories, raw_string,metadata_string):\n",
    "    file_metadata_dict = {}\n",
    "    for directory in directories:\n",
    "        # Find the h5 file in the current directory\n",
    "        h5_files = glob.glob(os.path.join(directory, \"*.h5\"))\n",
    "        \n",
    "        if len(h5_files) == 0:\n",
    "            print(f\"No h5 file found in directory: {directory}\")\n",
    "            continue\n",
    "        \n",
    "        h5_file_path = h5_files[0]  # Assuming there is one .h5 file per directory\n",
    "        \n",
    "        # Open the h5 file and look for numbered keys\n",
    "        with h5py.File(h5_file_path, 'r') as h5_file:\n",
    "            numbered_keys = find_numbered_keys(h5_file)\n",
    "            \n",
    "            if numbered_keys:\n",
    "                for key in numbered_keys:\n",
    "                    raw_folder_location = f\"{h5_file_path}?/{key}{raw_string}\"\n",
    "                    metadata_location =f\"{h5_file_path}?/{key}{metadata_string}\"\n",
    "                    \n",
    "                    # Add the file and metadata locations to the dictionary using the key as the dictionary key\n",
    "                    file_metadata_dict[key] = {\"raw_folder_location\": raw_folder_location, \"metadata_location\": metadata_location}\n",
    "            else:\n",
    "                print(f\"No numbered keys found in {h5_file_path}\")\n",
    "\n",
    "    return file_metadata_dict"
   ]
  },
  {
   "cell_type": "code",
   "execution_count": 9,
   "metadata": {},
   "outputs": [
    {
     "name": "stdout",
     "output_type": "stream",
     "text": [
      "/dtu/3d-imaging-center/projects/2022_QIM_PMP/raw_data_extern/2024_06_beamtime/RAW_DATA/111_cells_2/111_cells_2_6-5pct_mosalayers_2x\n",
      "/dtu/3d-imaging-center/projects/2022_QIM_PMP/raw_data_extern/2024_06_beamtime/RAW_DATA/111_cells_2/111_cells_2_6-1pct_mosalayers_2x_redo\n",
      "/dtu/3d-imaging-center/projects/2022_QIM_PMP/raw_data_extern/2024_06_beamtime/RAW_DATA/111_cells_2/111_cells_2_6-4pct_mosalayers_2x\n",
      "/dtu/3d-imaging-center/projects/2022_QIM_PMP/raw_data_extern/2024_06_beamtime/RAW_DATA/111_cells_2/111_cells_2_6-2pct_mosalayers_2x\n",
      "/dtu/3d-imaging-center/projects/2022_QIM_PMP/raw_data_extern/2024_06_beamtime/RAW_DATA/111_cells_2/111_cells_2_6-6pct_mosalayers_2x\n",
      "/dtu/3d-imaging-center/projects/2022_QIM_PMP/raw_data_extern/2024_06_beamtime/RAW_DATA/111_cells_2/111_cells_2_6-3pct_mosalayers_2x\n",
      "/dtu/3d-imaging-center/projects/2022_QIM_PMP/raw_data_extern/2024_06_beamtime/RAW_DATA/111_cells_2/111_cells_2_6-7pct_mosalayers_2x\n",
      "{'1.1': {'raw_folder_location': '/dtu/3d-imaging-center/projects/2022_QIM_PMP/raw_data_extern/2024_06_beamtime/RAW_DATA/111_cells_2/111_cells_2_6-7pct_mosalayers_2x/111_cells_2_6-7pct_mosalayers_2x.h5?/1.1/measurement/pco_ff', 'metadata_location': '/dtu/3d-imaging-center/projects/2022_QIM_PMP/raw_data_extern/2024_06_beamtime/RAW_DATA/111_cells_2/111_cells_2_6-7pct_mosalayers_2x/111_cells_2_6-7pct_mosalayers_2x.h5?/1.1/instrument/positioners'}, '10.1': {'raw_folder_location': '/dtu/3d-imaging-center/projects/2022_QIM_PMP/raw_data_extern/2024_06_beamtime/RAW_DATA/111_cells_2/111_cells_2_6-7pct_mosalayers_2x/111_cells_2_6-7pct_mosalayers_2x.h5?/10.1/measurement/pco_ff', 'metadata_location': '/dtu/3d-imaging-center/projects/2022_QIM_PMP/raw_data_extern/2024_06_beamtime/RAW_DATA/111_cells_2/111_cells_2_6-7pct_mosalayers_2x/111_cells_2_6-7pct_mosalayers_2x.h5?/10.1/instrument/positioners'}, '11.1': {'raw_folder_location': '/dtu/3d-imaging-center/projects/2022_QIM_PMP/raw_data_extern/2024_06_beamtime/RAW_DATA/111_cells_2/111_cells_2_6-7pct_mosalayers_2x/111_cells_2_6-7pct_mosalayers_2x.h5?/11.1/measurement/pco_ff', 'metadata_location': '/dtu/3d-imaging-center/projects/2022_QIM_PMP/raw_data_extern/2024_06_beamtime/RAW_DATA/111_cells_2/111_cells_2_6-7pct_mosalayers_2x/111_cells_2_6-7pct_mosalayers_2x.h5?/11.1/instrument/positioners'}, '12.1': {'raw_folder_location': '/dtu/3d-imaging-center/projects/2022_QIM_PMP/raw_data_extern/2024_06_beamtime/RAW_DATA/111_cells_2/111_cells_2_6-5pct_mosalayers_2x/111_cells_2_6-5pct_mosalayers_2x.h5?/12.1/measurement/pco_ff', 'metadata_location': '/dtu/3d-imaging-center/projects/2022_QIM_PMP/raw_data_extern/2024_06_beamtime/RAW_DATA/111_cells_2/111_cells_2_6-5pct_mosalayers_2x/111_cells_2_6-5pct_mosalayers_2x.h5?/12.1/instrument/positioners'}, '2.1': {'raw_folder_location': '/dtu/3d-imaging-center/projects/2022_QIM_PMP/raw_data_extern/2024_06_beamtime/RAW_DATA/111_cells_2/111_cells_2_6-7pct_mosalayers_2x/111_cells_2_6-7pct_mosalayers_2x.h5?/2.1/measurement/pco_ff', 'metadata_location': '/dtu/3d-imaging-center/projects/2022_QIM_PMP/raw_data_extern/2024_06_beamtime/RAW_DATA/111_cells_2/111_cells_2_6-7pct_mosalayers_2x/111_cells_2_6-7pct_mosalayers_2x.h5?/2.1/instrument/positioners'}, '3.1': {'raw_folder_location': '/dtu/3d-imaging-center/projects/2022_QIM_PMP/raw_data_extern/2024_06_beamtime/RAW_DATA/111_cells_2/111_cells_2_6-7pct_mosalayers_2x/111_cells_2_6-7pct_mosalayers_2x.h5?/3.1/measurement/pco_ff', 'metadata_location': '/dtu/3d-imaging-center/projects/2022_QIM_PMP/raw_data_extern/2024_06_beamtime/RAW_DATA/111_cells_2/111_cells_2_6-7pct_mosalayers_2x/111_cells_2_6-7pct_mosalayers_2x.h5?/3.1/instrument/positioners'}, '4.1': {'raw_folder_location': '/dtu/3d-imaging-center/projects/2022_QIM_PMP/raw_data_extern/2024_06_beamtime/RAW_DATA/111_cells_2/111_cells_2_6-7pct_mosalayers_2x/111_cells_2_6-7pct_mosalayers_2x.h5?/4.1/measurement/pco_ff', 'metadata_location': '/dtu/3d-imaging-center/projects/2022_QIM_PMP/raw_data_extern/2024_06_beamtime/RAW_DATA/111_cells_2/111_cells_2_6-7pct_mosalayers_2x/111_cells_2_6-7pct_mosalayers_2x.h5?/4.1/instrument/positioners'}, '5.1': {'raw_folder_location': '/dtu/3d-imaging-center/projects/2022_QIM_PMP/raw_data_extern/2024_06_beamtime/RAW_DATA/111_cells_2/111_cells_2_6-7pct_mosalayers_2x/111_cells_2_6-7pct_mosalayers_2x.h5?/5.1/measurement/pco_ff', 'metadata_location': '/dtu/3d-imaging-center/projects/2022_QIM_PMP/raw_data_extern/2024_06_beamtime/RAW_DATA/111_cells_2/111_cells_2_6-7pct_mosalayers_2x/111_cells_2_6-7pct_mosalayers_2x.h5?/5.1/instrument/positioners'}, '6.1': {'raw_folder_location': '/dtu/3d-imaging-center/projects/2022_QIM_PMP/raw_data_extern/2024_06_beamtime/RAW_DATA/111_cells_2/111_cells_2_6-7pct_mosalayers_2x/111_cells_2_6-7pct_mosalayers_2x.h5?/6.1/measurement/pco_ff', 'metadata_location': '/dtu/3d-imaging-center/projects/2022_QIM_PMP/raw_data_extern/2024_06_beamtime/RAW_DATA/111_cells_2/111_cells_2_6-7pct_mosalayers_2x/111_cells_2_6-7pct_mosalayers_2x.h5?/6.1/instrument/positioners'}, '7.1': {'raw_folder_location': '/dtu/3d-imaging-center/projects/2022_QIM_PMP/raw_data_extern/2024_06_beamtime/RAW_DATA/111_cells_2/111_cells_2_6-7pct_mosalayers_2x/111_cells_2_6-7pct_mosalayers_2x.h5?/7.1/measurement/pco_ff', 'metadata_location': '/dtu/3d-imaging-center/projects/2022_QIM_PMP/raw_data_extern/2024_06_beamtime/RAW_DATA/111_cells_2/111_cells_2_6-7pct_mosalayers_2x/111_cells_2_6-7pct_mosalayers_2x.h5?/7.1/instrument/positioners'}, '8.1': {'raw_folder_location': '/dtu/3d-imaging-center/projects/2022_QIM_PMP/raw_data_extern/2024_06_beamtime/RAW_DATA/111_cells_2/111_cells_2_6-7pct_mosalayers_2x/111_cells_2_6-7pct_mosalayers_2x.h5?/8.1/measurement/pco_ff', 'metadata_location': '/dtu/3d-imaging-center/projects/2022_QIM_PMP/raw_data_extern/2024_06_beamtime/RAW_DATA/111_cells_2/111_cells_2_6-7pct_mosalayers_2x/111_cells_2_6-7pct_mosalayers_2x.h5?/8.1/instrument/positioners'}, '9.1': {'raw_folder_location': '/dtu/3d-imaging-center/projects/2022_QIM_PMP/raw_data_extern/2024_06_beamtime/RAW_DATA/111_cells_2/111_cells_2_6-7pct_mosalayers_2x/111_cells_2_6-7pct_mosalayers_2x.h5?/9.1/measurement/pco_ff', 'metadata_location': '/dtu/3d-imaging-center/projects/2022_QIM_PMP/raw_data_extern/2024_06_beamtime/RAW_DATA/111_cells_2/111_cells_2_6-7pct_mosalayers_2x/111_cells_2_6-7pct_mosalayers_2x.h5?/9.1/instrument/positioners'}}\n"
     ]
    }
   ],
   "source": [
    "# Example usage:\n",
    "root_directory = \"/dtu/3d-imaging-center/projects/2022_QIM_PMP/raw_data_extern/2024_06_beamtime/RAW_DATA/111_cells_2/\"  # Replace with your root directory\n",
    "search_term = \"mosalayers_2x\"  # Replace with the name you're looking for\n",
    "directories = find_directories_with_name(root_directory, search_term)\n",
    "'''for directory in directories:\n",
    "    print(directory)'''\n",
    "del directories[2]\n",
    "for directory in directories:\n",
    "    print(directory)\n",
    "\n",
    "file_metadata_dict = process_directories(directories, '/measurement/pco_ff', '/instrument/positioners')\n",
    "print(file_metadata_dict)"
   ]
  },
  {
   "cell_type": "code",
   "execution_count": 4,
   "metadata": {},
   "outputs": [],
   "source": [
    "darfix_dataset_lst = []\n",
    "\n",
    "for key, values in file_metadata_dict.items():\n",
    "    darfix_dataset = Dataset(\n",
    "        _dir = \"/zhome/a7/7/183900/Thesis/Data\",\n",
    "        in_memory=True,\n",
    "        first_filename=values[\"raw_folder_location\"],\n",
    "        metadata_url=values[\"metadata_location\"],\n",
    "        isH5=True\n",
    "    )\n",
    "    darfix_dataset_lst.append(darfix_dataset)"
   ]
  },
  {
   "cell_type": "code",
   "execution_count": 5,
   "metadata": {},
   "outputs": [],
   "source": [
    "dataset = darfix_dataset_lst[0]"
   ]
  },
  {
   "cell_type": "code",
   "execution_count": 6,
   "metadata": {},
   "outputs": [],
   "source": [
    "dataset.find_dimensions(POSITIONER_METADATA)"
   ]
  },
  {
   "cell_type": "code",
   "execution_count": 7,
   "metadata": {},
   "outputs": [],
   "source": [
    "def plot_comparison(original, filtered, filter_name, original_name=\"original\"):\n",
    "    fig, (ax1, ax2) = plt.subplots(ncols=2, figsize=(15, 15), sharex=True, sharey=True)\n",
    "    ax1.imshow(original, cmap=plt.cm.viridis)\n",
    "    ax1.set_title(original_name)\n",
    "    ax2.imshow(filtered, cmap=plt.cm.viridis)\n",
    "    ax2.set_title(filter_name)"
   ]
  },
  {
   "cell_type": "code",
   "execution_count": null,
   "metadata": {},
   "outputs": [],
   "source": [
    "#This sets the dimesions of the angles\n",
    "dataset.dims.set_size(0,37)\n",
    "dataset.dims.set_size(1,26)\n",
    "dataset = dataset.reshape_data()"
   ]
  },
  {
   "cell_type": "code",
   "execution_count": null,
   "metadata": {},
   "outputs": [],
   "source": [
    "#Noise removal\n",
    "dataset = dataset.apply_background_subtraction(method=\"median\")\n",
    "dataset = dataset.apply_threshold_removal(bottom=10,top=64000)"
   ]
  },
  {
   "cell_type": "code",
   "execution_count": null,
   "metadata": {},
   "outputs": [],
   "source": [
    "#Now lets compute Grain plots\n",
    "moments = dataset.apply_moments()\n",
    "print(moments.shape)\n",
    "plot_comparison(moments[0][0], moments[1][0], \"COM obpitch\", \"COM diffry\")"
   ]
  }
 ],
 "metadata": {
  "kernelspec": {
   "display_name": "darfixenv",
   "language": "python",
   "name": "python3"
  },
  "language_info": {
   "codemirror_mode": {
    "name": "ipython",
    "version": 3
   },
   "file_extension": ".py",
   "mimetype": "text/x-python",
   "name": "python",
   "nbconvert_exporter": "python",
   "pygments_lexer": "ipython3",
   "version": "3.9.19"
  }
 },
 "nbformat": 4,
 "nbformat_minor": 2
}
